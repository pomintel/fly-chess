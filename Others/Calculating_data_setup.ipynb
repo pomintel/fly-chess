{
 "cells": [
  {
   "cell_type": "code",
   "id": "initial_id",
   "metadata": {
    "collapsed": true,
    "ExecuteTime": {
     "end_time": "2025-04-17T22:43:05.541387Z",
     "start_time": "2025-04-17T22:43:05.191107Z"
    }
   },
   "source": [
    "import numpy as np\n",
    "import pandas as pd"
   ],
   "outputs": [],
   "execution_count": 2
  },
  {
   "metadata": {
    "ExecuteTime": {
     "end_time": "2025-04-17T22:43:04.121109Z",
     "start_time": "2025-04-17T22:43:04.117198Z"
    }
   },
   "cell_type": "code",
   "source": [
    "total_SV = 530310443\n",
    "max_num_sample = total_SV//10\n",
    "print(max_num_sample)\n",
    "total_steps = 1e6\n",
    "print(total_steps)"
   ],
   "id": "3c402ea2efea409b",
   "outputs": [
    {
     "name": "stdout",
     "output_type": "stream",
     "text": [
      "53031044\n",
      "1000000.0\n"
     ]
    }
   ],
   "execution_count": 1
  },
  {
   "metadata": {
    "ExecuteTime": {
     "end_time": "2025-04-17T22:43:08.226594Z",
     "start_time": "2025-04-17T22:43:08.222131Z"
    }
   },
   "cell_type": "code",
   "source": [
    "for batch_size in [32,64,128]:\n",
    "    num_steps_per_epoch = max_num_sample//batch_size\n",
    "    print(num_steps_per_epoch, max_num_sample%batch_size)\n",
    "    total_epoch = total_steps/num_steps_per_epoch\n",
    "    print(total_epoch)"
   ],
   "id": "b797c21036aa3598",
   "outputs": [
    {
     "name": "stdout",
     "output_type": "stream",
     "text": [
      "1657220 4\n",
      "0.6034201856120491\n",
      "828610 4\n",
      "1.2068403712240983\n",
      "414305 4\n",
      "2.4136807424481965\n"
     ]
    }
   ],
   "execution_count": 3
  }
 ],
 "metadata": {
  "kernelspec": {
   "display_name": "Python 3",
   "language": "python",
   "name": "python3"
  },
  "language_info": {
   "codemirror_mode": {
    "name": "ipython",
    "version": 2
   },
   "file_extension": ".py",
   "mimetype": "text/x-python",
   "name": "python",
   "nbconvert_exporter": "python",
   "pygments_lexer": "ipython2",
   "version": "2.7.6"
  }
 },
 "nbformat": 4,
 "nbformat_minor": 5
}
