{
 "cells": [
  {
   "cell_type": "code",
   "id": "93c9d7a141f9b19f",
   "metadata": {
    "ExecuteTime": {
     "end_time": "2025-04-12T14:37:59.910958Z",
     "start_time": "2025-04-12T14:37:59.633602Z"
    }
   },
   "source": [
    "from collections.abc import Sequence\n",
    "import io\n",
    "import os\n",
    "import chess\n",
    "import chess.engine\n",
    "import chess.pgn\n",
    "import numpy as np\n",
    "from tqdm import tqdm\n",
    "import pandas as pd"
   ],
   "outputs": [],
   "execution_count": 1
  },
  {
   "metadata": {
    "ExecuteTime": {
     "end_time": "2025-04-12T14:38:00.500737Z",
     "start_time": "2025-04-12T14:38:00.496462Z"
    }
   },
   "cell_type": "code",
   "source": [
    "def get_puzzle_prob_from_pandas_row(\n",
    "    puzzle,\n",
    "):\n",
    "  game = chess.pgn.read_game(io.StringIO(puzzle['PGN']))\n",
    "  if game is None:\n",
    "    raise ValueError(f'Failed to read game from PGN {puzzle[\"PGN\"]}.')\n",
    "  board = game.end().board()\n",
    "  moves = puzzle['Moves'].split(' ')\n",
    "  return (len(moves),\n",
    "          evaluate_puzzle(\n",
    "            board=board,\n",
    "            moves = moves,\n",
    "          ))\n",
    "\n",
    "\n",
    "def evaluate_puzzle(\n",
    "    board: chess.Board,\n",
    "    moves: Sequence[str],\n",
    ") -> bool:\n",
    "  prob = 1.0\n",
    "  for move_idx, move in enumerate(moves):\n",
    "    if move_idx % 2 == 1:\n",
    "      prob = prob / float(len(list(board.legal_moves)))\n",
    "      predicted_move = move\n",
    "      if move != predicted_move:\n",
    "        board.push(chess.Move.from_uci(predicted_move))\n",
    "        return board.is_checkmate()\n",
    "    board.push(chess.Move.from_uci(move))\n",
    "  return prob\n",
    "\n",
    "def get_interval_str(value, start=200, end=3000, step=200):\n",
    "  if value < start or value >= end:\n",
    "    raise ValueError(f\"Input {value} is out of range.\")\n",
    "  bucket = (value - start) // step\n",
    "  lower = start + bucket * step\n",
    "  return f\"{lower}-{lower + step}\"\n"
   ],
   "id": "11d5190fcf5b9c45",
   "outputs": [],
   "execution_count": 2
  },
  {
   "metadata": {
    "collapsed": true,
    "ExecuteTime": {
     "end_time": "2025-04-12T14:38:12.941352Z",
     "start_time": "2025-04-12T14:38:01.459392Z"
    }
   },
   "cell_type": "code",
   "source": [
    "puzzles_path = os.path.join(\n",
    "    os.getcwd(),\n",
    "    '../data/chess_data/puzzles.csv',\n",
    ")\n",
    "puzzles = pd.read_csv(puzzles_path)\n",
    "result_df = pd.DataFrame(columns=[f\"{i}-{i + 200}\" for i in range(200, 3000, 200)])\n",
    "result_df.index.name = 'puzzle_len'\n",
    "\n",
    "for puzzle_id, puzzle in tqdm(puzzles.iterrows(), total=len(puzzles), desc=\"Evaluating puzzles\"):\n",
    "  puzzle_len, prob = get_puzzle_prob_from_pandas_row(\n",
    "    puzzle=puzzle,\n",
    "  )\n",
    "  interval = get_interval_str(puzzle['Rating'])\n",
    "  if puzzle_len not in result_df.index:\n",
    "      result_df.loc[puzzle_len] = {col: np.array([0,0]) for col in result_df.columns}\n",
    "  result_df.loc[puzzle_len, interval] = result_df.loc[puzzle_len, interval] + [prob,1]\n",
    "result_df = result_df.sort_index()"
   ],
   "id": "initial_id",
   "outputs": [
    {
     "name": "stderr",
     "output_type": "stream",
     "text": [
      "Evaluating puzzles: 100%|██████████| 10000/10000 [00:11<00:00, 875.13it/s]\n"
     ]
    }
   ],
   "execution_count": 3
  },
  {
   "metadata": {
    "ExecuteTime": {
     "end_time": "2025-04-12T14:38:37.648927Z",
     "start_time": "2025-04-12T14:38:37.641549Z"
    }
   },
   "cell_type": "code",
   "source": [
    "def sum_arrays(col):\n",
    "    return np.sum(np.stack(col), axis=0)\n",
    "\n",
    "sums = {col: sum_arrays(result_df[col]) for col in result_df.columns}\n",
    "new_row_df = pd.DataFrame({col: [val] for col, val in sums.items()}, index=['all'])\n",
    "\n",
    "result_df = pd.concat([result_df, new_row_df])"
   ],
   "id": "d77e51cf8b3859c0",
   "outputs": [],
   "execution_count": 4
  },
  {
   "metadata": {
    "ExecuteTime": {
     "end_time": "2025-04-12T14:38:55.021712Z",
     "start_time": "2025-04-12T14:38:55.017086Z"
    }
   },
   "cell_type": "code",
   "source": [
    "def sum_arrays_row(row):\n",
    "    return np.sum(np.stack(row), axis=0)\n",
    "\n",
    "sums_col = result_df.apply(sum_arrays_row, axis=1)\n",
    "result_df['all'] = sums_col"
   ],
   "id": "7183d7102339905",
   "outputs": [],
   "execution_count": 5
  },
  {
   "metadata": {
    "ExecuteTime": {
     "end_time": "2025-04-11T16:48:37.748675Z",
     "start_time": "2025-04-11T16:48:37.745904Z"
    }
   },
   "cell_type": "code",
   "source": "result_df = result_df.applymap(lambda x: np.nan if x[1] == 0 else x[0] / x[1])",
   "id": "5794f0a2a5f257b9",
   "outputs": [
    {
     "name": "stderr",
     "output_type": "stream",
     "text": [
      "/var/folders/r9/p4wm07b97132b2lm9g78p_7r0000gn/T/ipykernel_85622/3331046320.py:1: FutureWarning: DataFrame.applymap has been deprecated. Use DataFrame.map instead.\n",
      "  result_df = result_df.applymap(lambda x: np.nan if x[1] == 0 else x[0] / x[1])\n"
     ]
    }
   ],
   "execution_count": 5
  },
  {
   "metadata": {
    "ExecuteTime": {
     "end_time": "2025-04-11T16:48:37.805812Z",
     "start_time": "2025-04-11T16:48:37.804543Z"
    }
   },
   "cell_type": "code",
   "source": "",
   "id": "575036394ce8e538",
   "outputs": [],
   "execution_count": null
  }
 ],
 "metadata": {
  "kernelspec": {
   "display_name": "Python 3",
   "language": "python",
   "name": "python3"
  },
  "language_info": {
   "codemirror_mode": {
    "name": "ipython",
    "version": 2
   },
   "file_extension": ".py",
   "mimetype": "text/x-python",
   "name": "python",
   "nbconvert_exporter": "python",
   "pygments_lexer": "ipython2",
   "version": "2.7.6"
  }
 },
 "nbformat": 4,
 "nbformat_minor": 5
}
